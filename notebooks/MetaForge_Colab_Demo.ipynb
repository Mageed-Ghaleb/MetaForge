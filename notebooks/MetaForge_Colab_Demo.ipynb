{
 "cells": [
  {
   "cell_type": "markdown",
   "id": "36310639",
   "metadata": {},
   "source": [
    "# 🧠 MetaForge Colab Demo\n",
    "\n",
    "Welcome to the **MetaForge** demo notebook!\n",
    "\n",
    "This notebook lets you try job shop scheduling with MetaForge — no installation needed."
   ]
  },
  {
   "cell_type": "code",
   "execution_count": null,
   "id": "bf679f08",
   "metadata": {},
   "outputs": [],
   "source": [
    "!pip install metaforge"
   ]
  },
  {
   "cell_type": "code",
   "execution_count": null,
   "id": "edd39934",
   "metadata": {},
   "outputs": [],
   "source": [
    "from metaforge.problems.benchmark_loader import load_job_shop_instance\n",
    "from metaforge.metaforge_runner import run_solver\n",
    "import matplotlib.pyplot as plt\n",
    "\n",
    "# Load a sample problem from URL\n",
    "url = \"https://raw.githubusercontent.com/Mageed-Ghaleb/MetaForge/main/data/benchmarks/ft06.txt\"\n",
    "problem = load_job_shop_instance(url)\n",
    "print(f\"Loaded problem with {problem.num_jobs} jobs and {problem.num_machines} machines.\")"
   ]
  },
  {
   "cell_type": "code",
   "execution_count": null,
   "id": "4ce80d3a",
   "metadata": {},
   "outputs": [],
   "source": [
    "# Run Tabu Search on the loaded problem\n",
    "result = run_solver(\"ts\", problem, track_schedule=True)\n",
    "print(\"Best Makespan:\", result[\"makespan\"])"
   ]
  },
  {
   "cell_type": "code",
   "execution_count": null,
   "id": "8d0e698f",
   "metadata": {},
   "outputs": [],
   "source": [
    "# Plot convergence curve\n",
    "plt.plot(result['history'])\n",
    "plt.title('Solver Convergence')\n",
    "plt.xlabel('Iteration')\n",
    "plt.ylabel('Makespan')\n",
    "plt.grid(True)\n",
    "plt.show()"
   ]
  },
  {
   "cell_type": "code",
   "execution_count": null,
   "id": "33a5a93f",
   "metadata": {},
   "outputs": [],
   "source": [
    "# Plot Gantt chart\n",
    "result['problem'].plot_schedule(result['schedule'])"
   ]
  }
 ],
 "metadata": {},
 "nbformat": 4,
 "nbformat_minor": 5
}