{
 "cells": [
  {
   "cell_type": "code",
   "execution_count": null,
   "metadata": {},
   "outputs": [],
   "source": [
    "from MetaForge.problems.jobshop import JobShopProblem\n",
    "from MetaForge.solvers.genetic_algorithm import GeneticAlgorithmSolver\n",
    "\n",
    "jobs = [[(0, 3), (1, 2)], [(1, 2), (0, 4)]]\n",
    "problem = JobShopProblem(jobs)\n",
    "solver = GeneticAlgorithmSolver(problem)\n",
    "solution, score = solver.solve()\n",
    "print('Best solution:', solution)\n",
    "print('Score:', score)"
   ]
  }
 ],
 "metadata": {},
 "nbformat": 4,
 "nbformat_minor": 2
}