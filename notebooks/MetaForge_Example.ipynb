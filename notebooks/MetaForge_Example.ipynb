{
 "cells": [
  {
   "cell_type": "markdown",
   "id": "641bf4f5",
   "metadata": {},
   "source": [
    "\n",
    "# 🔧 MetaForge Example Notebook\n",
    "\n",
    "Welcome to MetaForge! This notebook demonstrates how to:\n",
    "- Load a Job Shop Scheduling benchmark\n",
    "- Run a solver (e.g., Genetic Algorithm, Tabu Search)\n",
    "- Visualize the result (Gantt chart + convergence)\n",
    "- Compare multiple solvers\n",
    "\n",
    "Let's get started!\n"
   ]
  },
  {
   "cell_type": "code",
   "execution_count": null,
   "id": "75775c9b",
   "metadata": {},
   "outputs": [],
   "source": [
    "\n",
    "from metaforge.problems.benchmark_loader import load_job_shop_instance\n",
    "from metaforge.metaforge_runner import run_solver\n",
    "from metaforge.utils.visualization import plot_gantt_chart, plot_comparison\n",
    "import matplotlib.pyplot as plt\n"
   ]
  },
  {
   "cell_type": "code",
   "execution_count": null,
   "id": "6c476c66",
   "metadata": {},
   "outputs": [],
   "source": [
    "\n",
    "# 📦 Load a sample benchmark\n",
    "problem = load_job_shop_instance(\"data/benchmarks/la01.txt\")\n",
    "print(f\"Loaded problem with {len(problem.jobs)} jobs and {problem.num_machines} machines.\")\n"
   ]
  },
  {
   "cell_type": "code",
   "execution_count": null,
   "id": "cd9408f3",
   "metadata": {},
   "outputs": [],
   "source": [
    "\n",
    "# 🚀 Run a single solver (e.g., Tabu Search)\n",
    "result = run_solver(\"ts\", problem, track_schedule=True)\n",
    "\n",
    "# 📈 Plot convergence history\n",
    "plt.plot(result['history'])\n",
    "plt.title(\"Makespan Convergence (TS)\")\n",
    "plt.xlabel(\"Iteration\")\n",
    "plt.ylabel(\"Makespan\")\n",
    "plt.grid(True)\n",
    "plt.show()\n",
    "\n",
    "# 🕒 Plot final Gantt chart\n",
    "schedule = result[\"schedules\"][-1]\n",
    "plot_gantt_chart(schedule, num_machines=problem.num_machines, num_jobs=len(problem.jobs))\n"
   ]
  },
  {
   "cell_type": "code",
   "execution_count": null,
   "id": "2a0768a1",
   "metadata": {},
   "outputs": [],
   "source": [
    "\n",
    "# 🔄 Compare multiple solvers\n",
    "solvers = [\"ts\", \"ga\", \"aco\"]\n",
    "results = {}\n",
    "for solver in solvers:\n",
    "    print(f\"Running {solver}...\")\n",
    "    results[solver] = run_solver(solver, problem, track_schedule=True)\n",
    "\n",
    "# 🧠 Plot comparison of histories\n",
    "plot_comparison(results)\n",
    "\n",
    "# 🏁 Compare final Gantt charts\n",
    "from metaforge.utils.visualization import plot_multiple_gantt\n",
    "schedules_dict = {s: results[s][\"schedules\"][-1] for s in solvers}\n",
    "plot_multiple_gantt(schedules_dict, num_machines=problem.num_machines, num_jobs=len(problem.jobs))\n"
   ]
  },
  {
   "cell_type": "markdown",
   "id": "443d0097",
   "metadata": {},
   "source": [
    "\n",
    "---\n",
    "✅ **Done!** You’ve now seen how to use MetaForge to solve, analyze, and visualize Job Shop Scheduling problems.\n",
    "\n",
    "Feel free to try other solvers: `\"sa\"`, `\"q\"`, `\"dqn-naive\"`, `\"dqn-replay\"`, `\"neuroevo\"`.\n",
    "\n",
    "Happy optimizing! 🚀\n"
   ]
  }
 ],
 "metadata": {},
 "nbformat": 4,
 "nbformat_minor": 5
}