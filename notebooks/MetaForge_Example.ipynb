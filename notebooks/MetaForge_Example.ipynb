{
 "cells": [
  {
   "cell_type": "markdown",
   "id": "641bf4f5",
   "metadata": {},
   "source": [
    "\n",
    "# 🔧 MetaForge Example Notebook\n",
    "\n",
    "Welcome to MetaForge! This notebook demonstrates how to:\n",
    "- Load a Job Shop Scheduling benchmark\n",
    "- Run a solver (e.g., Genetic Algorithm, Tabu Search)\n",
    "- Visualize the result (Gantt chart + convergence)\n",
    "- Compare multiple solvers\n",
    "\n",
    "Let's get started!\n"
   ]
  },
  {
   "cell_type": "markdown",
   "id": "d7277c55",
   "metadata": {},
   "source": []
  },
  {
   "cell_type": "code",
   "execution_count": null,
   "id": "75775c9b",
   "metadata": {},
   "outputs": [
    {
     "ename": "ModuleNotFoundError",
     "evalue": "No module named 'metaforge'",
     "output_type": "error",
     "traceback": [
      "\u001b[31m---------------------------------------------------------------------------\u001b[39m",
      "\u001b[31mModuleNotFoundError\u001b[39m                       Traceback (most recent call last)",
      "\u001b[36mCell\u001b[39m\u001b[36m \u001b[39m\u001b[32mIn[2]\u001b[39m\u001b[32m, line 1\u001b[39m\n\u001b[32m----> \u001b[39m\u001b[32m1\u001b[39m \u001b[38;5;28;01mfrom\u001b[39;00m\u001b[38;5;250m \u001b[39m\u001b[34;01mmetaforge\u001b[39;00m\u001b[34;01m.\u001b[39;00m\u001b[34;01mproblems\u001b[39;00m\u001b[34;01m.\u001b[39;00m\u001b[34;01mbenchmark_loader\u001b[39;00m\u001b[38;5;250m \u001b[39m\u001b[38;5;28;01mimport\u001b[39;00m load_job_shop_instance\n\u001b[32m      2\u001b[39m \u001b[38;5;28;01mfrom\u001b[39;00m\u001b[38;5;250m \u001b[39m\u001b[34;01mmetaforge\u001b[39;00m\u001b[34;01m.\u001b[39;00m\u001b[34;01mmetaforge_runner\u001b[39;00m\u001b[38;5;250m \u001b[39m\u001b[38;5;28;01mimport\u001b[39;00m run_solver\n\u001b[32m      3\u001b[39m \u001b[38;5;28;01mfrom\u001b[39;00m\u001b[38;5;250m \u001b[39m\u001b[34;01mmetaforge\u001b[39;00m\u001b[34;01m.\u001b[39;00m\u001b[34;01mutils\u001b[39;00m\u001b[34;01m.\u001b[39;00m\u001b[34;01mvisualization\u001b[39;00m\u001b[38;5;250m \u001b[39m\u001b[38;5;28;01mimport\u001b[39;00m plot_gantt_chart, plot_comparison\n",
      "\u001b[31mModuleNotFoundError\u001b[39m: No module named 'metaforge'"
     ]
    }
   ],
   "source": [
    "from metaforge.problems.benchmark_loader import load_job_shop_instance\n",
    "from metaforge.metaforge_runner import run_solver\n",
    "from metaforge.utils.visualization import plot_gantt_chart, plot_comparison\n",
    "import matplotlib.pyplot as plt"
   ]
  },
  {
   "cell_type": "code",
   "execution_count": null,
   "id": "6c476c66",
   "metadata": {},
   "outputs": [],
   "source": [
    "\n",
    "# 📦 Load a sample benchmark\n",
    "problem = load_job_shop_instance(\"data/benchmarks/la01.txt\")\n",
    "print(f\"Loaded problem with {len(problem.jobs)} jobs and {problem.num_machines} machines.\")"
   ]
  },
  {
   "cell_type": "code",
   "execution_count": null,
   "id": "cd9408f3",
   "metadata": {},
   "outputs": [],
   "source": [
    "\n",
    "# 🚀 Run a single solver (e.g., Tabu Search)\n",
    "result = run_solver(\"ts\", problem, track_schedule=True)\n",
    "\n",
    "# 📈 Plot convergence history\n",
    "plt.plot(result['history'])\n",
    "plt.title(\"Makespan Convergence (TS)\")\n",
    "plt.xlabel(\"Iteration\")\n",
    "plt.ylabel(\"Makespan\")\n",
    "plt.grid(True)\n",
    "plt.show()\n",
    "\n",
    "# 🕒 Plot final Gantt chart\n",
    "schedule = result[\"schedules\"][-1]\n",
    "plot_gantt_chart(schedule, num_machines=problem.num_machines, num_jobs=len(problem.jobs))\n"
   ]
  },
  {
   "cell_type": "code",
   "execution_count": null,
   "id": "2a0768a1",
   "metadata": {},
   "outputs": [],
   "source": [
    "\n",
    "# 🔄 Compare multiple solvers\n",
    "solvers = [\"ts\", \"ga\", \"aco\"]\n",
    "results = {}\n",
    "for solver in solvers:\n",
    "    print(f\"Running {solver}...\")\n",
    "    results[solver] = run_solver(solver, problem, track_schedule=True)\n",
    "\n",
    "# 🧠 Plot comparison of histories\n",
    "plot_comparison(results)\n",
    "\n",
    "# 🏁 Compare final Gantt charts\n",
    "from metaforge.utils.visualization import plot_multiple_gantt\n",
    "schedules_dict = {s: results[s][\"schedules\"][-1] for s in solvers}\n",
    "plot_multiple_gantt(schedules_dict, num_machines=problem.num_machines, num_jobs=len(problem.jobs))\n"
   ]
  },
  {
   "cell_type": "markdown",
   "id": "443d0097",
   "metadata": {},
   "source": [
    "\n",
    "---\n",
    "✅ **Done!** You’ve now seen how to use MetaForge to solve, analyze, and visualize Job Shop Scheduling problems.\n",
    "\n",
    "Feel free to try other solvers: `\"sa\"`, `\"q\"`, `\"dqn-naive\"`, `\"dqn-replay\"`, `\"neuroevo\"`.\n",
    "\n",
    "Happy optimizing! 🚀\n"
   ]
  }
 ],
 "metadata": {
  "kernelspec": {
   "display_name": "venv",
   "language": "python",
   "name": "python3"
  },
  "language_info": {
   "codemirror_mode": {
    "name": "ipython",
    "version": 3
   },
   "file_extension": ".py",
   "mimetype": "text/x-python",
   "name": "python",
   "nbconvert_exporter": "python",
   "pygments_lexer": "ipython3",
   "version": "3.11.9"
  }
 },
 "nbformat": 4,
 "nbformat_minor": 5
}
